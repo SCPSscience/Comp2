{
  "nbformat": 4,
  "nbformat_minor": 0,
  "metadata": {
    "colab": {
      "name": "Floridas_Water_Budget1902.ipynb",
      "version": "0.3.2",
      "provenance": []
    },
    "kernelspec": {
      "display_name": "Python 3",
      "language": "python",
      "name": "python3"
    }
  },
  "cells": [
    {
      "metadata": {
        "id": "hMXKrzS5X4uo",
        "colab_type": "text"
      },
      "cell_type": "markdown",
      "source": [
        "# <center> Welcome to Jupyer Notebook - Florida's Water Budget </center>"
      ]
    },
    {
      "metadata": {
        "id": "RxRh98OqYNIC",
        "colab_type": "text"
      },
      "cell_type": "markdown",
      "source": [
        "<center> ![alt text](https://cdn-images-1.medium.com/letterbox/266/72/50/50/1*wOHyKy6fl3ltcBMNpCvC6Q.png?source=logoAvatar-lo_XrkzqdM0PkJD---95916e268740\"Jupyter Notebook Logo\")</center>\n",
        "\n",
        "<center> <font size =\"6pt\" color = \"blue\"> **Florida's Water Budget** </font> </center>\n",
        "\n",
        "<center> Analyzing Star Appearance and Properties </center>\n",
        "<br>\n",
        "\n",
        "<center> **Some reminders about Jupyter Notebook** </center>\n",
        "\n",
        "Welcome to back to Jupyter Notebooks, your  coding headquarters in science class.  Learning how to code is a lot like learning a new language, the language you will begin to learn today is called _**Python**_.  Python is a language used to write phone applications, program websites, and by scientists for data analysis.  Just like in a foreign language class, you aren't expected to write in paragraphs right away.  \n",
        "<br>\n",
        "**Jupyter Notebooks** is a coding tool that helps you learn to \"speak\" python by breaking code into small parts called **blocks**, writing one block of code is a lot like writing one sentence (if you learn to write enough sentences, you can eventually write paragraphs).\n",
        "<br>\n",
        "<br>\n",
        "The block you are reading right now is called a markdown.  The purpose of a **markdown** is to give you easy to read instructions or explanations between coding blocks.  Try double-clicking on this paragraph, how does what you see change when you go _\"behind the scenes\"_?  (When you are done, hold the shift key and press the enter key, that's how you run your block so you can see what your code does)  \n",
        "\n",
        "<center>Access the coding booklet [here](https://docs.google.com/document/d/1VvGSzMArdGMOed9Bgy0wqoKNyDK-UTBqoWnPQF-dC7o/edit?usp=sharing)</center>\n"
      ]
    },
    {
      "metadata": {
        "id": "Oa0_82ZnY1Ve",
        "colab_type": "text"
      },
      "cell_type": "markdown",
      "source": [
        "### <font color = \"magenta\"> **Part 1: Pre-Coding Questions** </font>\n",
        "> *Answer the following questions in your coding booklet.*\n",
        "\n",
        ">a.  Access to freshwater is a limiting factor in many ecosystems, what are some other limiting factors that can affect native populations?\n",
        "<br>\n",
        "<br>\n",
        "> b. Draw a diagram that shows a lake water source.  Add and label arrows for ways that water can be added to the lake.  Add and label arrows for the ways that water can be removed from the lake.  (Be sure to include human and natural / non-human sources)"
      ]
    },
    {
      "metadata": {
        "id": "6uj65zsuZxxG",
        "colab_type": "text"
      },
      "cell_type": "markdown",
      "source": [
        "# <center> PART 2: Let's gather some water data! </center>"
      ]
    },
    {
      "metadata": {
        "id": "cwlqHrngXWAJ",
        "colab_type": "text"
      },
      "cell_type": "markdown",
      "source": [
        "\n",
        "> The first thing we need to do is import some important instructions for the computer and make sure that it can access our awesome data.  We will use data from the [U.S. Geological Survey](http://waterdata.usgs.gov/fl/nwis/current/?type=precip) and [St. Johns River Water Management District](http://www.sjrwmd.com) to see the rainfall and water levels in different Florida counties, including our own Seminole County. \n",
        "<br>\n",
        "<br>\n",
        "> _**To Get Started...**_\n",
        "<br>\n",
        "<br>\n",
        "> Press the _**Play Button**_ or press _**Control+Enter**_ to run the code in all 3 boxes for Part 2.  The last section of code shows us the first few stars in our data set, beginning with Sol, our sun.\n",
        "<br>\n",
        "<br>\n",
        ">>  A popup may apear when your start running the code that says <font color = \"red\"> **WARNING: This Notebook is not authored by Google**.</font>  Make sure the box is checked that says **Reset all runtimes before running**, Click <font color = \"blue\"> _**Run Anyway**_</font>, and then <font color = \"blue\"> _**YES**_ </font> to start coding.\n",
        "\n"
      ]
    },
    {
      "metadata": {
        "id": "cJnGBj5MXWAO",
        "colab_type": "code",
        "colab": {}
      },
      "cell_type": "code",
      "source": [
        "# Import modules that contain functions we need\n",
        "import pandas as pd\n",
        "import numpy as np\n",
        "%matplotlib inline\n",
        "import matplotlib.pyplot as plt"
      ],
      "execution_count": 0,
      "outputs": []
    },
    {
      "metadata": {
        "id": "KKTsqO4xXWAa",
        "colab_type": "code",
        "colab": {}
      },
      "cell_type": "code",
      "source": [
        "# Our data is a table and is defined as the word 'data'.\n",
        "# 'data' is set equal to the .csv file that is read by the pandas function.\n",
        "# The .csv file must be in the same disrectory as the program.\n",
        "#data = pd.read_csv(\"Public Water Supply FL 2010.csv\")\n",
        "\n",
        "# You can also use external links to .xls, .csv, or .txt files and would import useing the same funtion but replaceing the\n",
        "# file name with the webpage. For example:\n",
        "data = pd.read_csv(\"https://gist.githubusercontent.com/GoodmanSciences/9d53d0874281a61354cc8a9a962cb926/raw/e379c22e667aa309cc02048bd2b7bb31ce540d60/Public%2520Water%2520Supply%2520FL%25202010.csv\")"
      ],
      "execution_count": 0,
      "outputs": []
    },
    {
      "metadata": {
        "id": "SYVwC3JHXWAm",
        "colab_type": "text"
      },
      "cell_type": "markdown",
      "source": [
        "# <center> PART 3: Water Used by Florida Counties in 2010 </center>"
      ]
    },
    {
      "metadata": {
        "id": "-Xqxnm4XXWAp",
        "colab_type": "text"
      },
      "cell_type": "markdown",
      "source": [
        ">This table displays the County name, its population, the puplic water supply for that county, and the total water used by that county.\n",
        "\n",
        ">Use and modify the sections of code below for Part 3 to answer questions 3-5 in your coding booklet."
      ]
    },
    {
      "metadata": {
        "id": "2n0Echk6XWAw",
        "colab_type": "code",
        "colab": {}
      },
      "cell_type": "code",
      "source": [
        "# displays the first few rows of the table\n",
        "data.head(4)"
      ],
      "execution_count": 0,
      "outputs": []
    },
    {
      "metadata": {
        "id": "dEV0-LXBXWA8",
        "colab_type": "code",
        "colab": {}
      },
      "cell_type": "code",
      "source": [
        "# Set variables for scatter plot\n",
        "x = data.Population\n",
        "y = data.WaterUsed\n",
        "\n",
        "fig = plt.figure(figsize=(15, 6))\n",
        "plt.scatter(x,y)\n",
        "plt.xlim(0,3000000)\n",
        "plt.ylim(0,350)\n",
        "plt.title('The Relationship Between Population and How Much Water a County Consumes Each Year')\n",
        "plt.xlabel('Population (individuals)')\n",
        "plt.ylabel('Water Used (million gallons)')\n",
        "\n",
        "# This actually shows the plot\n",
        "plt.show()"
      ],
      "execution_count": 0,
      "outputs": []
    },
    {
      "metadata": {
        "id": "LOdBw9bFXWBP",
        "colab_type": "code",
        "colab": {}
      },
      "cell_type": "code",
      "source": [
        "# Creates a new dataset for County\n",
        "\n",
        "place = data.groupby(\"County\", as_index = False).sum()"
      ],
      "execution_count": 0,
      "outputs": []
    },
    {
      "metadata": {
        "id": "5JJ54Uv7XWBe",
        "colab_type": "text"
      },
      "cell_type": "markdown",
      "source": [
        ">This next block of code will show us a table shows the Top 10 water consuming counties, the population, the amount of the population that is connected to public water (PublicSupply), and the total water used by each county in *Millions of Gallons*!"
      ]
    },
    {
      "metadata": {
        "id": "htdqO9vnXWBh",
        "colab_type": "code",
        "colab": {}
      },
      "cell_type": "code",
      "source": [
        "# Orginizes by County with the highest water usage, if you wanted the least, try ascending = True\n",
        "# Only displays the top 10 highestest water consuming counties by putting .head(10), if you wanted more, try .head(20)\n",
        "\n",
        "mostwater = place.sort_values(by=\"WaterUsed\", ascending = False).head(10)\n",
        "mostwater"
      ],
      "execution_count": 0,
      "outputs": []
    },
    {
      "metadata": {
        "id": "oPmKhSU_XWBz",
        "colab_type": "text"
      },
      "cell_type": "markdown",
      "source": [
        "**Most Water Consuming Counties in Florida**\n",
        "\n",
        "\n",
        "This code will give us a histogram or bar graph of the top ten water consuming counties in Florida."
      ]
    },
    {
      "metadata": {
        "id": "Kjsg1NhQXWB6",
        "colab_type": "code",
        "colab": {}
      },
      "cell_type": "code",
      "source": [
        "mostwater.sort_values(by=\"WaterUsed\", ascending=True).plot(x=\"County\", y=\"WaterUsed\", kind=\"barh\", title=\"Top 10 Water Consuming Counties\", legend=False);"
      ],
      "execution_count": 0,
      "outputs": []
    },
    {
      "metadata": {
        "id": "IwpTI0RmU4Q2",
        "colab_type": "text"
      },
      "cell_type": "markdown",
      "source": [
        "Try to change the histogram above so that it displays the County and the Population Total. (Right now it is displaying County and Water Use Total) "
      ]
    },
    {
      "metadata": {
        "id": "yjldVR3fXWCB",
        "colab_type": "text"
      },
      "cell_type": "markdown",
      "source": [
        "### <font color = \"magenta\"> **Part 3 Questions** </font color = \"magenta\"> \n",
        "\n",
        "\n",
        "1. What relationship exist between the human population and how much water is used each year (in MILLIONS of gallons)?\n",
        "<br>\n",
        "<br>\n",
        "2. List the three counties that use the most water.  Does your population to usage trend hold true for these three? \n",
        "<br>\n",
        "<br>\n",
        "3. Assume that Seminole County’s water sources can safely have ~110 million gallons withdrawn each day, what would the water supply limit the population to Seminole County to?  If the population exceeded that limit predict what would happen to the water supply, cost of water, and water ecosystems?\n",
        "\n"
      ]
    },
    {
      "metadata": {
        "id": "NdUBmOMEXWCD",
        "colab_type": "text"
      },
      "cell_type": "markdown",
      "source": [
        "# <center> PART 4:  Rainfall Additions to the Water Supply  </center>\n"
      ]
    },
    {
      "metadata": {
        "id": "xjsJ6_HsfdNi",
        "colab_type": "text"
      },
      "cell_type": "markdown",
      "source": [
        "\n",
        "> Use and modify the sections of code below for Part 2 to answer questions 6-8 in your coding booklet."
      ]
    },
    {
      "metadata": {
        "id": "ufW2QkwlXWCG",
        "colab_type": "code",
        "colab": {}
      },
      "cell_type": "code",
      "source": [
        "# Imports more csv files locally\n",
        "#feb = pd.read_csv(\"Feb2005_FL_rainfall.csv\")\n",
        "#july = pd.read_csv(\"July2005_FL_rainfall.csv\")\n",
        "\n",
        "# Imports more csv files from the web\n",
        "july = pd.read_csv(\"https://gist.githubusercontent.com/GoodmanSciences/354fa30fb1e506c055621b893b26ebe8/raw/523e483ae4534c9432f91e5d5b7f9fb0356e95e1/Rainfall%2520FL%2520Jul2005.csv\")\n",
        "feb = pd.read_csv(\"https://gist.githubusercontent.com/GoodmanSciences/7088ff6b7b8e915a87ee987f3b767641/raw/a76a0dd975f95e6c0c5e6ee810e6f6e66faeca9b/Rainfall%2520FL%2520Feb2005.csv\")"
      ],
      "execution_count": 0,
      "outputs": []
    },
    {
      "metadata": {
        "id": "mMyvARq_XWCN",
        "colab_type": "text"
      },
      "cell_type": "markdown",
      "source": [
        "**Rainfall in February 2005 (Inches)** and **Rainfall in July 2005 (Inches)**\n",
        "> Run the next two block of code to make tables for each months ranfall.\n",
        "\n",
        "\n",
        "\n",
        "\n",
        "\n",
        "\n",
        "\n",
        "\n",
        "\n",
        "\n",
        "\n",
        "\n",
        "\n"
      ]
    },
    {
      "metadata": {
        "id": "hIQHXolFXWCQ",
        "colab_type": "code",
        "colab": {}
      },
      "cell_type": "code",
      "source": [
        "feb.head()"
      ],
      "execution_count": 0,
      "outputs": []
    },
    {
      "metadata": {
        "id": "NMBcy9j3kKdz",
        "colab_type": "code",
        "colab": {}
      },
      "cell_type": "code",
      "source": [
        "july.head()"
      ],
      "execution_count": 0,
      "outputs": []
    },
    {
      "metadata": {
        "id": "ySPdvokDXWCX",
        "colab_type": "code",
        "colab": {}
      },
      "cell_type": "code",
      "source": [
        "# Plots rainfall from February 2005 and July 2005. Check the units on each to make sure your answers are correct!\n",
        "# These grapjs show the counties with the most rainfall.  Want the least? Try ascending=False\n",
        "\n",
        "feb.sort_values(by=\"Monthly Total\", ascending=True).plot(x=\"County\", y=\"Monthly Total\", kind=\"barh\", title=\"Rainfall in February 2005 (Inches)\", legend=False);\n",
        "\n",
        "july.sort_values(by=\"Monthly Total\", ascending=True).plot(x=\"County\", y=\"Monthly Total\", kind=\"barh\", title=\"Rainfall in July 2005 (Inches)\", legend=False);\n"
      ],
      "execution_count": 0,
      "outputs": []
    },
    {
      "metadata": {
        "id": "W5BkIfGXgHBF",
        "colab_type": "text"
      },
      "cell_type": "markdown",
      "source": [
        "### <font color = \"magenta\"> **Part 4 Questions - #4 ** </font color = \"magenta\">  \n",
        "\n",
        "4. Compare the two graphs that you produced in your part 2 coding blocks.  Which month had a greater amount of rainfall?  Think about plants during these two months, how does the growth differ?  Why is that the case? What other limiting factors might contribute?\n"
      ]
    },
    {
      "metadata": {
        "id": "6zCVlKGdXWC3",
        "colab_type": "code",
        "colab": {}
      },
      "cell_type": "code",
      "source": [
        "from IPython.display import Image\n",
        "from IPython.core.display import HTML \n",
        "Image(url= 'https://preview.ibb.co/g7Z6sa/Average_Monthly_Water_Consumption.png')"
      ],
      "execution_count": 0,
      "outputs": []
    },
    {
      "metadata": {
        "id": "Ang38HJ9gUwj",
        "colab_type": "text"
      },
      "cell_type": "markdown",
      "source": [
        "### <font color = \"magenta\"> **Part 4 Questions - #5 ** </font color = \"magenta\"> \n",
        "\n",
        "\n",
        "5. Look at the bar graph of “Average Monthly Water Consumption”, compare the water consumption in February and July to the rainfall from the last question?  What is the pattern?  Why might this be the case? \n"
      ]
    },
    {
      "metadata": {
        "id": "RdfzzaEDXWDC",
        "colab_type": "code",
        "colab": {}
      },
      "cell_type": "code",
      "source": [
        "Image(url= 'https://floridamaps.files.wordpress.com/2015/03/florida-counties.jpg', width=750)"
      ],
      "execution_count": 0,
      "outputs": []
    },
    {
      "metadata": {
        "id": "1mKPmQA6g_72",
        "colab_type": "text"
      },
      "cell_type": "markdown",
      "source": [
        "### <font color = \"magenta\"> **Part 4 Questions - #6 ** </font color = \"magenta\"> \n",
        "\n",
        "6. Which 3 counties are consistently in the top 6 for rainfall totals between the two months of data that are being compared?  Find them on the map.  How might nearby areas with less rainfall benefit from theirs?  How might this affect human population?  What about agriculture (food supply)? "
      ]
    },
    {
      "metadata": {
        "id": "hv68AaYHXWDM",
        "colab_type": "text"
      },
      "cell_type": "markdown",
      "source": [
        "# <center> PART 5: Monitoring Lake Apopka a Freshwater Source for Agriculture </center> \n"
      ]
    },
    {
      "metadata": {
        "id": "cfqQ92wQliy5",
        "colab_type": "text"
      },
      "cell_type": "markdown",
      "source": [
        "\n",
        "> Use and modify the sections of code below for Part 5 to answer questions 7 & 8 in your coding booklet."
      ]
    },
    {
      "metadata": {
        "id": "WUUl4ZiBXWDU",
        "colab_type": "code",
        "colab": {}
      },
      "cell_type": "code",
      "source": [
        "# Imports another csv file locally\n",
        "#level = pd.read_csv(\"Lake Apopka Waterlevel 2005.csv\")\n",
        "\n",
        "# Imports another csv file from the web\n",
        "level = pd.read_csv(\"https://gist.githubusercontent.com/GoodmanSciences/e63b6cb68cd6ef5235dc8c113ea9995a/raw/39139535f7ef05057ecce1126ea336ca7bcfb879/Lake%2520Apopka%2520Waterlevel%25202005.csv\")"
      ],
      "execution_count": 0,
      "outputs": []
    },
    {
      "metadata": {
        "id": "O3Az0ED6XWDi",
        "colab_type": "code",
        "colab": {}
      },
      "cell_type": "code",
      "source": [
        "# Sets Date as index\n",
        "lev2 = level.set_index(\"Date\")"
      ],
      "execution_count": 0,
      "outputs": []
    },
    {
      "metadata": {
        "id": "_0RlayJeXWDw",
        "colab_type": "text"
      },
      "cell_type": "markdown",
      "source": [
        "**Water Level in February 2005**"
      ]
    },
    {
      "metadata": {
        "id": "Enx83B_DXWEC",
        "colab_type": "code",
        "colab": {}
      },
      "cell_type": "code",
      "source": [
        "# Displays only Feb 1st through the 28th\n",
        "lev2.loc[\"2/1/2005\":\"2/28/2005\", :]"
      ],
      "execution_count": 0,
      "outputs": []
    },
    {
      "metadata": {
        "id": "Go7SfCsjXWEK",
        "colab_type": "text"
      },
      "cell_type": "markdown",
      "source": [
        "**Water Level in July 2005**"
      ]
    },
    {
      "metadata": {
        "scrolled": true,
        "id": "UkADz9eKXWEO",
        "colab_type": "code",
        "colab": {}
      },
      "cell_type": "code",
      "source": [
        "# Displays only July 1st through the 7th\n",
        "lev2.loc[\"7/1/2005\":\"7/7/2005\", :]"
      ],
      "execution_count": 0,
      "outputs": []
    },
    {
      "metadata": {
        "id": "2FQNtuIWonjn",
        "colab_type": "text"
      },
      "cell_type": "markdown",
      "source": [
        "### <font color = \"magenta\"> **Part 5 Questions - #7 ** </font color = \"magenta\"> \n",
        "\n",
        "7. What can you infer about the water levels in Lake Apopka in 2005 considering the information on rainfall in the previous tables?"
      ]
    },
    {
      "metadata": {
        "id": "TBFZPJf7XWEW",
        "colab_type": "code",
        "colab": {}
      },
      "cell_type": "code",
      "source": [
        "# Plot of all values in level dataset\n",
        "level.plot('Date', 'Water Level')"
      ],
      "execution_count": 0,
      "outputs": []
    },
    {
      "metadata": {
        "id": "L_QJiQG9XWEe",
        "colab_type": "code",
        "colab": {}
      },
      "cell_type": "code",
      "source": [
        "Image(url= 'http://www.floridacountiesmap.com/graphics/orange.gif')"
      ],
      "execution_count": 0,
      "outputs": []
    },
    {
      "metadata": {
        "id": "mdEL98smX1xZ",
        "colab_type": "text"
      },
      "cell_type": "markdown",
      "source": [
        "### <font color = \"magenta\"> **Part 5 Questions - #8 ** </font color = \"magenta\"> \n",
        "\n",
        "8. Water sources change with rainfall, usage, and local temperatures.  Using the graph and the map, Why do you think the water levels of the lake change like they do?\n"
      ]
    },
    {
      "metadata": {
        "id": "hV0imU94pT2Y",
        "colab_type": "text"
      },
      "cell_type": "markdown",
      "source": [
        "# <center> PART 6: Who gets the least rain? </center>"
      ]
    },
    {
      "metadata": {
        "id": "yXyp6gGSppiN",
        "colab_type": "text"
      },
      "cell_type": "markdown",
      "source": [
        "### <font color = \"magenta\"> **Part 6 Question ** </font color = \"magenta\"> \n",
        "\n",
        "9. Change the code and analyze the usage and rainfall data/graphs for the smallest 10 counties from parts 3 and 4 above. What counties had the least usage? What was its population? What county had the least rainfall? How many inches did it rain there?"
      ]
    }
  ]
}