{
  "nbformat": 4,
  "nbformat_minor": 0,
  "metadata": {
    "colab": {
      "name": "Stars1902.ipynb",
      "version": "0.3.2",
      "provenance": [],
      "collapsed_sections": [
        "bAdJYtK-fOBT",
        "JU4_DlUtASRR",
        "tTtsUZPVAaO6",
        "tnBNtFJPci9b",
        "UfT_o8aCci9e",
        "TXq_IGLVci99",
        "NfUKO4wici-A",
        "GZ0fZP1sci-d",
        "by7v-SFwci-h",
        "iBF-3uI6ci--",
        "ODaoX3NjA7NZ",
        "qFrQJC2pci_F",
        "I4eMZ_M4ci_J"
      ]
    },
    "kernelspec": {
      "display_name": "Python 3",
      "language": "python",
      "name": "python3"
    }
  },
  "cells": [
    {
      "metadata": {
        "id": "RTUcFWTXAHeK",
        "colab_type": "text"
      },
      "cell_type": "markdown",
      "source": [
        "# <center> Welcome to Jupyer Notebooks - Properties of Stars </center>"
      ]
    },
    {
      "metadata": {
        "id": "kNpnNFv_ci8K",
        "colab_type": "text"
      },
      "cell_type": "markdown",
      "source": [
        "<center> ![alt text](https://cdn-images-1.medium.com/letterbox/266/72/50/50/1*wOHyKy6fl3ltcBMNpCvC6Q.png?source=logoAvatar-lo_XrkzqdM0PkJD---95916e268740\"Jupyter Notebook Logo\")</center>\n",
        "\n",
        "<center> <font size =\"6pt\" color = \"orange\"> **Properties of the Stars** </font> </center>\n",
        "\n",
        "<center> Analyzing Star Appearance and Properties </center>\n",
        "<br>\n",
        "\n",
        "<center> **Some reminders about Jupyter Notebook** </center>\n",
        "\n",
        "Welcome to back to Jupyter Notebooks, your  coding headquarters in science class.  Learning how to code is a lot like learning a new language, the language you will begin to learn today is called _**Python**_.  Python is a language used to write phone applications, program websites, and by scientists for data analysis.  Just like in a foreign language class, you aren't expected to write in paragraphs right away.  \n",
        "<br>\n",
        "**Jupyter Notebooks** is a coding tool that helps you learn to \"speak\" python by breaking code into small parts called **blocks**, writing one block of code is a lot like writing one sentence (if you learn to write enough sentences, you can eventually write paragraphs).\n",
        "<br>\n",
        "<br>\n",
        "The block you are reading right now is called a markdown.  The purpose of a **markdown** is to give you easy to read instructions or explanations between coding blocks.  Try double-clicking on this paragraph, how does what you see change when you go _\"behind the scenes\"_?  (When you are done, hold the shift key and press the enter key, that's how you run your block so you can see what your code does)  \n",
        "\n",
        "<center>Access the coding booklet [here](https://docs.google.com/document/d/1DFkdXxesy8iWMT9OW7k5LKd8tyf0RcGONpfyRehjDks)</center>\n"
      ]
    },
    {
      "metadata": {
        "id": "bAdJYtK-fOBT",
        "colab_type": "text"
      },
      "cell_type": "markdown",
      "source": [
        "### <font color = \"magenta\"> **Part 1 Pre-Coding Questions** </font>\n",
        "\n",
        "> a. How do absolute magnitude (absmag) and apparent magnitude (mag) differ? How is luminosity related?\n",
        "<br>\n",
        "<br>\n",
        "> b. A star’s appearance gives clues about its properties. Since the nearest star would take thousands of years to reach to measure directly, how are these clues helpful to astronomers?\n",
        "<br>\n",
        "<br>\n",
        "> c. Astronomers have made observations of millions of stars, how might knowing the properties of these stars help them understand things like the composition of different parts of the universe or how solar systems form?"
      ]
    },
    {
      "metadata": {
        "id": "JU4_DlUtASRR",
        "colab_type": "text"
      },
      "cell_type": "markdown",
      "source": [
        "# <center> PART 2: Let's gather some star data! </center>"
      ]
    },
    {
      "metadata": {
        "id": "2b5TU4oIci8Q",
        "colab_type": "text"
      },
      "cell_type": "markdown",
      "source": [
        "The first thing we need to do is import some important instructions for the computer and make sure that it can access our awesome star data.\n",
        "<br>\n",
        "<br>\n",
        "Press the _**Play Button**_ or press _**Control+Enter**_ to run the code in all 3 boxes for Part 2.  The last section of code shows us the first few stars in our data set, beginning with Sol, our sun.\n",
        "<br>\n",
        "<br>\n",
        "> A popup may apear when your start running the code that says <font color = \"red\"> **WARNING: This Notebook is not authored by Google**.</font>  Make sure the box is checked that says **Reset all runtimes before running**, Click <font color = \"blue\"> _**Run Anyway**_</font>, and then <font color = \"blue\"> _**YES**_ </font> to start coding."
      ]
    },
    {
      "metadata": {
        "id": "zqWNNsujci8W",
        "colab_type": "code",
        "colab": {}
      },
      "cell_type": "code",
      "source": [
        "# Import modules that contain functions we need\n",
        "import pandas as pd\n",
        "import numpy as np\n",
        "%matplotlib inline\n",
        "import matplotlib.pyplot as plt"
      ],
      "execution_count": 0,
      "outputs": []
    },
    {
      "metadata": {
        "id": "CKJRaW7gci8m",
        "colab_type": "code",
        "colab": {}
      },
      "cell_type": "code",
      "source": [
        "# Read in data that will be used for the calculations.\n",
        "# Using pandas read_csv method, we can create a data frame\n",
        "data = pd.read_csv(\"https://github.com/adamlamee/CODINGinK12-data/raw/master/stars.csv\")"
      ],
      "execution_count": 0,
      "outputs": []
    },
    {
      "metadata": {
        "id": "RXZKNlT1ci8w",
        "colab_type": "code",
        "colab": {}
      },
      "cell_type": "code",
      "source": [
        "# We wish too look at the first 3 rows of our data set\n",
        "data.head(3)"
      ],
      "execution_count": 0,
      "outputs": []
    },
    {
      "metadata": {
        "id": "tTtsUZPVAaO6",
        "colab_type": "text"
      },
      "cell_type": "markdown",
      "source": [
        "# <center> PART 3: All the Stars in Our Catalogue </center>"
      ]
    },
    {
      "metadata": {
        "id": "GnNmkYbSci88",
        "colab_type": "text"
      },
      "cell_type": "markdown",
      "source": [
        "Part 3 with show us a graph with all of the stars in out massive data set.  With a few short steps, you will be able to see stars from our galaxy and beyond!\n",
        "\n",
        "<center> **Some Important Terms** </center>\n",
        "\n",
        "<b>Declination</b> is the distance a star is North or South of the Celestial Equator, similar to <u><i>lattitude</u></i> on Earth. \n",
        "<br>\n",
        "<b>Right</b> <b>Ascension</b> is how far east or west a star is, similar to <u><i>longitude</u></i> on Earth."
      ]
    },
    {
      "metadata": {
        "id": "bvewXRIkci9A",
        "colab_type": "code",
        "colab": {}
      },
      "cell_type": "code",
      "source": [
        "fig = plt.figure(figsize=(15, 6))\n",
        "plt.scatter(data.ra,data.dec, s=0.01)\n",
        "plt.xlim(24, 0)\n",
        "plt.title(\"All the Stars in the Catalogue\")\n",
        "plt.xlabel('Right Ascension (Hours)')\n",
        "plt.ylabel('Declination (Degrees)')"
      ],
      "execution_count": 0,
      "outputs": []
    },
    {
      "metadata": {
        "id": "QxPegF2Yci9L",
        "colab_type": "text"
      },
      "cell_type": "markdown",
      "source": [
        "**Run the Code below to create a chart containing all of the Stars with Exoplantes within 100 light years!**"
      ]
    },
    {
      "metadata": {
        "id": "Wr__WlHjci9O",
        "colab_type": "code",
        "colab": {}
      },
      "cell_type": "code",
      "source": [
        "from IPython.display import Image\n",
        "from IPython.core.display import HTML \n",
        "\n",
        "Image(url= 'http://www.hpcf.upr.edu/~abel/phl/nearby_stars_with_exoplanets.png', width=900)"
      ],
      "execution_count": 0,
      "outputs": []
    },
    {
      "metadata": {
        "id": "tnBNtFJPci9b",
        "colab_type": "text"
      },
      "cell_type": "markdown",
      "source": [
        "\n",
        "### <font color = \"magenta\"> **Part 3 Questions** </font color = \"magenta\"> \n",
        "   \n",
        "    \n",
        "1. The graph you produced shows right ascension on the x-axis and declination on the y-axis. What does the resulting graph actually show?\n",
        "<br>\n",
        "<br>\n",
        "2. Your code also produced a chart- how are the chart and graph similar to each other? How are they different?\n",
        "<br>\n",
        "<br>\n",
        "3. Are there any stars you can identify on both of them? What are their names? What aspect of the graph allowed you to do that? "
      ]
    },
    {
      "metadata": {
        "id": "UfT_o8aCci9e",
        "colab_type": "text"
      },
      "cell_type": "markdown",
      "source": [
        "# <center> PART 4: Relationships Between Two Properties</center>\n"
      ]
    },
    {
      "metadata": {
        "scrolled": true,
        "id": "42ME8YEFci9h",
        "colab_type": "code",
        "colab": {}
      },
      "cell_type": "code",
      "source": [
        "# format the points on the graph\n",
        "transparency = 1\n",
        "size = 1\n",
        "\n",
        "# draws a scatter plot\n",
        "fig = plt.figure(figsize=(15, 4.5))\n",
        "plt.scatter(data.temp, data.lum, s=size, edgecolors='none', alpha=transparency)\n",
        "plt.xlim(2000,15000)\n",
        "plt.ylim(0,1000)\n",
        "plt.title(\"Does hotter mean brighter?\")\n",
        "plt.ylabel(\"Luminosity\")\n",
        "plt.xlabel(\"Temperature (K)\")"
      ],
      "execution_count": 0,
      "outputs": []
    },
    {
      "metadata": {
        "id": "DsJ39n7Mci9s",
        "colab_type": "text"
      },
      "cell_type": "markdown",
      "source": [
        "**Run the code below to display a chart of Star color and temperatures.**"
      ]
    },
    {
      "metadata": {
        "id": "WI7saPBBci9x",
        "colab_type": "code",
        "colab": {}
      },
      "cell_type": "code",
      "source": [
        "Image(url= 'http://hmxearthscience.com/Galaxies%20and%20Stars/HR%20Lab%202.jpg', width=500)"
      ],
      "execution_count": 0,
      "outputs": []
    },
    {
      "metadata": {
        "id": "TXq_IGLVci99",
        "colab_type": "text"
      },
      "cell_type": "markdown",
      "source": [
        "### <font color = \"magenta\"> **Part 4 Questions** </font color = \"magenta\">\n",
        "\n",
        "\n",
        "\n",
        "4. Each point on the scatter plot shows a star’s temperature and luminosity. What trends do you see in the data?\n",
        "<br>\n",
        "<br>\n",
        "5. Around what temperature is the largest range of luminosities? Using the chart below the graph you produced determine the most likely color? If a star is blue, what temperature can you infer it is?"
      ]
    },
    {
      "metadata": {
        "id": "NfUKO4wici-A",
        "colab_type": "text"
      },
      "cell_type": "markdown",
      "source": [
        "# <center> PART 5: Constellations and Star Properties </center>"
      ]
    },
    {
      "metadata": {
        "id": "-11qoM3aci-E",
        "colab_type": "code",
        "colab": {}
      },
      "cell_type": "code",
      "source": [
        "# These are the abbreviations for all the constellations\n",
        "data.sort_values('con').con.unique()"
      ],
      "execution_count": 0,
      "outputs": []
    },
    {
      "metadata": {
        "id": "xLu3NgkRci-O",
        "colab_type": "text"
      },
      "cell_type": "markdown",
      "source": [
        "<center><img src=\"http://www.ianridpath.com/image/list1.jpg\" width=\"60%\"></center>\n",
        "\n",
        "<center> **Choose a Constellation from the list above and insert the 3 letter code below in the \" \", for example \"Vir\".** </center>"
      ]
    },
    {
      "metadata": {
        "id": "UiGrnj7Rci-R",
        "colab_type": "code",
        "colab": {}
      },
      "cell_type": "code",
      "source": [
        "# This shows just one constellation\n",
        "data_con = data.query('con == \"Vir\"')\n",
        "\n",
        "# This plots where the brightest 10 stars are in the sky\n",
        "data_con = data_con.sort_values('mag').head(10)\n",
        "plt.scatter(data_con.ra,data_con.dec)\n",
        "plt.gca().invert_xaxis()\n",
        "plt.title(\"A constellation in the sky\")\n",
        "plt.xlabel('Right Ascension (degrees)')\n",
        "plt.ylabel('Declination (Hours)')"
      ],
      "execution_count": 0,
      "outputs": []
    },
    {
      "metadata": {
        "id": "GZ0fZP1sci-d",
        "colab_type": "text"
      },
      "cell_type": "markdown",
      "source": [
        "### <font color = \"magenta\"> **Part 5 Question** </font color = \"magenta\">\n",
        "\n",
        "6. Which constellation did you choose? How many stars in it? Is it visible above Miami right now? Is it visible over Sydney?\n",
        "    \n",
        "    \n",
        "**Use this link to help find your constellation and answer Question 9!!** [Can we see your constellation now?](http://www.astroviewer.com/current-night-sky.php?lon=-80.21&lat=25.78&city=Miami%2C+FL&tz=EST)"
      ]
    },
    {
      "metadata": {
        "id": "by7v-SFwci-h",
        "colab_type": "text"
      },
      "cell_type": "markdown",
      "source": [
        "# <center> PART 6: Which types of stars make up your constellation? </center>"
      ]
    },
    {
      "metadata": {
        "scrolled": true,
        "id": "fKoH1awvci-t",
        "colab_type": "code",
        "colab": {}
      },
      "cell_type": "code",
      "source": [
        "# format the points on the graph\n",
        "transparency = 0.2\n",
        "size = 1\n",
        "\n",
        "# draws a scatter plot\n",
        "fig = plt.figure(figsize=(7, 4.5))\n",
        "plt.scatter(data.temp, data.absmag, s=size, edgecolors='none', alpha=transparency)\n",
        "plt.scatter(data_con.temp, data_con.absmag, color='red', edgecolors='none')\n",
        "plt.xlim(17000,2000)\n",
        "plt.ylim(18,-18)\n",
        "plt.title(\"Types of stars in a constellation\")\n",
        "plt.ylabel(\"Absolute Magnitude\")\n",
        "plt.xlabel(\"Temperature (K)\")"
      ],
      "execution_count": 0,
      "outputs": []
    },
    {
      "metadata": {
        "id": "0gsMov3uci-6",
        "colab_type": "text"
      },
      "cell_type": "markdown",
      "source": [
        "**HR Diagram - The Stars in the constellation are highlighted as red dots in the graph above!**\n",
        "\n",
        "\n",
        "<center><img src=\"http://www.khadley.com/Courses/Astronomy/PH_206/topics/stars/images/hrcolour.jpg?crc=3403459\" width=\"50%\"></center>"
      ]
    },
    {
      "metadata": {
        "id": "iBF-3uI6ci--",
        "colab_type": "text"
      },
      "cell_type": "markdown",
      "source": [
        "### <font color = \"magenta\"> **Part 6 Questions** </font color = \"magenta\">\n",
        "\n",
        "\n",
        "7. Using the H-R Diagram, what types of stars make up your constellation? How many of each type are in your constellation?\n",
        "<br>\n",
        "<br>\n",
        "8. What is the temperature of the hottest star in your constellation? What is its absolute magnitude? What about the coldest constellation? "
      ]
    },
    {
      "metadata": {
        "id": "ODaoX3NjA7NZ",
        "colab_type": "text"
      },
      "cell_type": "markdown",
      "source": [
        "# <center> BONUS PART 7: Extra Coding for Star Properties </center>\n"
      ]
    },
    {
      "metadata": {
        "id": "unWmKnDbci_C",
        "colab_type": "text"
      },
      "cell_type": "markdown",
      "source": [
        "Using the coding blocks from **Part 4** above, find the answers to questions 12 and 13.  You will have to change what is imputed into the code to get the two graphs you need for the questions. Good Luck and have fun!!!"
      ]
    },
    {
      "metadata": {
        "id": "qFrQJC2pci_F",
        "colab_type": "text"
      },
      "cell_type": "markdown",
      "source": [
        "### <font color = \"magenta\"> **BONUS Part 7 Questions** </font color = \"magenta\">\n",
        "\n",
        "9. Is there a relationship between distance (dist) & apparent magnitude (mag)? Use the coding block from part 2 (hint: you will need to adjust the x & y limits)\n",
        "<br>\n",
        "<br>\n",
        "10. Is there a relationship between apparent magnitude (mag) & absolute magnitude (absmag)? Use the coding block from part 2 (hint: you will need to adjust the x & y limits)"
      ]
    },
    {
      "metadata": {
        "id": "I4eMZ_M4ci_J",
        "colab_type": "text"
      },
      "cell_type": "markdown",
      "source": [
        "# References\n",
        "- The data came from [The Astronomy Nexus](http://www.astronexus.com/hyg) and their colletion of the Hipparcos, Yale Bright Star, and Gliese catalogues ([huge zip file here](http://www.astronexus.com/files/downloads/hygdata_v3.csv.gz)).\n"
      ]
    }
  ]
}