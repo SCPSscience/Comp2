{
  "nbformat": 4,
  "nbformat_minor": 0,
  "metadata": {
    "colab": {
      "name": "Erosion1902.ipynb",
      "version": "0.3.2",
      "provenance": [],
      "collapsed_sections": [
        "FZ7mgqhHzHAW",
        "Vmq-ZAuZ3jUG",
        "DjQ5iel34nBd",
        "Da7qC05dzHA6",
        "D_F-UHGEzHBQ",
        "Uj7a5JuhzHBS",
        "Y39ViIYgzHBg",
        "m-eom5f_5lQY",
        "uZEJbTlm9tq7",
        "z8oOcwILzHBv",
        "4-NUpolZzHB1",
        "4ob_K2CLzHCG",
        "Nj7nVJa0g3Ro",
        "VKEBsDxgzHCa"
      ]
    },
    "kernelspec": {
      "display_name": "Python 3",
      "language": "python",
      "name": "python3"
    }
  },
  "cells": [
    {
      "metadata": {
        "id": "Ft8em3mkLToI",
        "colab_type": "text"
      },
      "cell_type": "markdown",
      "source": [
        "# <center> Welcome to Jupyer Notebooks - Erosion </center>\n",
        "---"
      ]
    },
    {
      "metadata": {
        "id": "c4hxPliVzq3m",
        "colab_type": "text"
      },
      "cell_type": "markdown",
      "source": [
        "<center> ![alt text](https://cdn-images-1.medium.com/letterbox/266/72/50/50/1*wOHyKy6fl3ltcBMNpCvC6Q.png?source=logoAvatar-lo_XrkzqdM0PkJD---95916e268740\"Jupyter Notebook Logo\")</center>\n",
        "\n",
        "<center> <font size =\"6pt\" color = \"limegreen\"> **Erosion** </font> </center>\n",
        "\n",
        "<center> Here Today Gone Tomorrow </center>\n",
        "<br>\n",
        "\n",
        "<center> **Some reminders about Jupyter Notebook** </center>\n",
        "\n",
        "Welcome to back to Jupyter Notebooks, your  coding headquarters in science class.  Learning how to code is a lot like learning a new language, the language you will begin to learn today is called _**Python**_.  Python is a language used to write phone applications, program websites, and by scientists for data analysis.  Just like in a foreign language class, you aren't expected to write in paragraphs right away.  \n",
        "<br>\n",
        "**Jupyter Notebooks** is a coding tool that helps you learn to \"speak\" python by breaking code into small parts called **blocks**, writing one block of code is a lot like writing one sentence (if you learn to write enough sentences, you can eventually write paragraphs).\n",
        "<br>\n",
        "<br>\n",
        "The block you are reading right now is called a markdown.  The purpose of a **markdown** is to give you easy to read instructions or explanations between coding blocks.  The grey sections you'll see below are **coding** blocks.  This is where you can edit the code to tell the computer what to do!\n",
        "\n",
        "<center>Access the coding booklet [here](https://drive.google.com/open?id=1fLXi3BHLSe_ufhRYnc6zoRwTmjODE7jJ1cpDORNk2C8)</center>\n"
      ]
    },
    {
      "metadata": {
        "id": "Ul5M4kKRPosA",
        "colab_type": "text"
      },
      "cell_type": "markdown",
      "source": [
        "\n",
        "## <center>  Open the <font  color = \"limegreen\"> *Discovery Science - Erosion: Here Today, Gone Tomorrow* </font> Module </center>\n"
      ]
    },
    {
      "metadata": {
        "id": "-cxha-hyzHAQ",
        "colab_type": "text"
      },
      "cell_type": "markdown",
      "source": [
        "> In this Juptyer Notebooks we will be learning to create graphs from data that we input from an online erosion simulation.  We will use the <b>Discovery Science - Erosion: Here Today, Gone Tomorrow Module</b> to test soil erosion (Flash Player must be Enabled on the computer to run the Module). The erosion module allows you to adjust and see how different variables impact soil erosion.  Variables you can adjust include <u>soil treatment</u>, <u>amount of water</u>, and <u>incline</u>. To start testing, make sure that you click on <b>Investigate</b>, type in your name, and select <b>Level 1</b>.\n",
        "\n",
        "<center> Please open this simulation in another tab by clicking the image below or by clicking [here](http://gtm-media.discoveryeducation.com/videos/DSC/externalApplications/accessible/virtual_labs-es/Erosion/index.html). </center>\n",
        "\n",
        "\n",
        "\n",
        "<center> [![Foo](http://interactivesites.weebly.com/uploads/9/5/0/5/9505777/discovery.jpg)](http://gtm-media.discoveryeducation.com/videos/DSC/externalApplications/accessible/virtual_labs-es/Erosion/index.html)</center>\n",
        "\n"
      ]
    },
    {
      "metadata": {
        "id": "FZ7mgqhHzHAW",
        "colab_type": "text"
      },
      "cell_type": "markdown",
      "source": [
        "### <font color = \"magenta\"> **Part 1: Pre-Coding Questions** </font>\n",
        "*Write the answers to each of these questions into your coding booklet.*\n",
        "\n",
        "> a. What is erosion?  How is it different from weathering?\n",
        "  \n",
        "> b. How does deposition relate to erosion and weathering?"
      ]
    },
    {
      "metadata": {
        "id": "Vmq-ZAuZ3jUG",
        "colab_type": "text"
      },
      "cell_type": "markdown",
      "source": [
        "# <center>Part 2: Importing Function Libraries</center>\n",
        "---"
      ]
    },
    {
      "metadata": {
        "id": "wrqMyW2P3yAv",
        "colab_type": "text"
      },
      "cell_type": "markdown",
      "source": [
        "As always you need to import your **libraries** so that your Jupyter Notebook has the language (functions) it needs to do what you ask it.  For this lesson, the next block is specifically importing  the libraries we will need for to construct graphs from the data you collect and input. You can begin to execute the cells using <b> Shift + Enter </b> or by pressing the \"play\" button.\n",
        "\n",
        "<u>Reflection Questions</u>\n",
        "  - Can you find the comment in the coding block?  Do you remember how to make something a comment?\n",
        "  - Why is it always necessary to import libraries?   Why do you think they are not automatically part of all Jupyter Notebooks?\n",
        "  - What is the difference between a coding block and a markdown block?  Can you find an example of each?\n",
        "\n",
        "Be sure to run the **code block** by either pressing the \"play button\" or by clicking on the coding block and using **Shift + Enter**.\n",
        "\n",
        "---\n",
        "\n",
        "> A popup may apear when your start running the code that says <font color = \"red\"> **WARNING: This Notebook is not authored by Google**.</font>  Make sure the box is checked that says **Reset all runtimes before running**, Click <font color = \"blue\"> _**Run Anyway**_</font>, and then <font color = \"blue\"> _**YES**_ </font> to start coding.\n",
        "---"
      ]
    },
    {
      "metadata": {
        "id": "6BjDttbD3okl",
        "colab_type": "code",
        "colab": {}
      },
      "cell_type": "code",
      "source": [
        "#importing what we'll need to make graphs from our data.\n",
        "import numpy as np\n",
        "import pandas as pd\n",
        "%matplotlib inline\n",
        "import matplotlib.pyplot as plt; plt.rcdefaults()\n",
        "import matplotlib.pyplot as plt\n"
      ],
      "execution_count": 0,
      "outputs": []
    },
    {
      "metadata": {
        "id": "DjQ5iel34nBd",
        "colab_type": "text"
      },
      "cell_type": "markdown",
      "source": [
        "# <center>Part 3: Determining the Effect of Plants</center>\n",
        "---"
      ]
    },
    {
      "metadata": {
        "id": "Da7qC05dzHA6",
        "colab_type": "text"
      },
      "cell_type": "markdown",
      "source": [
        "##<center>Making a Bar Graph for Soil Erosion: <u>Low Incline</u> with <u>No Treatment</u></center>\n",
        "\n",
        "This graph will display the results for soil erosion with no soil treatment and low incline, testing the effects of 'low', 'medium' and 'high' water. To run the block of code and all of the code blocks below, you will hit Shift + Enter."
      ]
    },
    {
      "metadata": {
        "id": "TE60v8sqzHA8",
        "colab_type": "code",
        "colab": {}
      },
      "cell_type": "code",
      "source": [
        "#note: find where the soil runoff results are in the data chart so that you know where to find them in the next section for editing\n",
        "objects1 = ('Low Water', 'Medium Water', 'High Water')\n",
        "y_pos = np.arange(len(objects1))\n",
        "notreatment1 = [4,6,7]\n",
        " \n",
        "plt.bar(y_pos, notreatment1, align='center', alpha=0.5, color =\"b\")\n",
        "plt.xticks(y_pos, objects1)\n",
        "plt.ylim(0,11)\n",
        "plt.ylabel('Soil Runoff in Litres')\n",
        "plt.title('Soil Erosion with No Soil Treatment and Low Incline')\n",
        "plt.show()"
      ],
      "execution_count": 0,
      "outputs": []
    },
    {
      "metadata": {
        "id": "D_F-UHGEzHBQ",
        "colab_type": "text"
      },
      "cell_type": "markdown",
      "source": [
        "### <font color = \"magenta\"> **Part 3 Questions - #1, #2, & #3** </font>\n",
        "\n",
        "\n",
        "Write your answers in your coding booklet for questions 1-3 for \"Soil Erosion: **Incline** and **No Treatment**\"\"[link text](https:// [link text](https://))\n",
        "<br> \n",
        "1. What impact did increasing the water have on the soil erosion?\n",
        "<br>\n",
        "<br>\n",
        "2. What was the erosion difference between the low water and high water?\n",
        "<br>\n",
        "<br>\n",
        "3. How do you think adding plants will impact the amount of soil erosion?"
      ]
    },
    {
      "metadata": {
        "id": "Uj7a5JuhzHBS",
        "colab_type": "text"
      },
      "cell_type": "markdown",
      "source": [
        "## <center>Making a Bar Graph for Soil Erosion: <u>Low Incline</u> with <u>Plants</u></center>\n",
        "\n",
        "Using the \"Eroison: Here Today, Gone Tomorrow\" Module run tests for soil erosion for the <b>PLANTS</b> soil treatment with <b>LOW INCLINE</b> for 'low', 'medium' and 'high' water.  Write down your results in a data table, then enter them in the code below where it says planterosion = [1,1,1]."
      ]
    },
    {
      "metadata": {
        "id": "aiI7VCZhzHBX",
        "colab_type": "code",
        "colab": {}
      },
      "cell_type": "code",
      "source": [
        "objects2 = ('Low Water', 'Medium Water', 'High Water')\n",
        "y_pos = np.arange(len(objects2))\n",
        "\n",
        "#Insert your data below.  Make sure that the data is entered in the correct order. \n",
        "#All the data is preset to 1 Litre. Order:\n",
        "# Low Water\n",
        "# Medium Water\n",
        "# High Water \n",
        "\n",
        "planterosion = [1,1,1]\n",
        " \n",
        "plt.bar(y_pos, planterosion, align='center', alpha=0.5, color =\"g\")\n",
        "plt.xticks(y_pos, objects2)\n",
        "plt.ylim(0,11)\n",
        "plt.ylabel('Soil Runoff in Litres')\n",
        "plt.title('Soil Erosion with Plants and Low Incline')\n",
        "plt.show()"
      ],
      "execution_count": 0,
      "outputs": []
    },
    {
      "metadata": {
        "id": "Y39ViIYgzHBg",
        "colab_type": "text"
      },
      "cell_type": "markdown",
      "source": [
        "### <font color = \"magenta\"> **Part 3 Questions - #4 & #5** </font>\n",
        "\n",
        "_Write your answers into your coding booklet for questions 4 & 5 for \"Soil Erosion: **Low Incline** with **Plants**_\n",
        "\n",
        "4. Comparing this graph to the first one, what impact did the plants have on erosion? Can you quantify this impact?\n",
        "<br>\n",
        "<br>\n",
        "5. What effect do plants have on the amount of erosion? What application might this serve in the real-world? "
      ]
    },
    {
      "metadata": {
        "id": "m-eom5f_5lQY",
        "colab_type": "text"
      },
      "cell_type": "markdown",
      "source": [
        "# <center>Part 4: Comparing Two Variables (Double Bar Graphing)</center>\n",
        "---"
      ]
    },
    {
      "metadata": {
        "id": "uZEJbTlm9tq7",
        "colab_type": "text"
      },
      "cell_type": "markdown",
      "source": [
        "##<center>Making a Bar Graph to show the Effect of <u>Water</u> and <u>Incline</u> on Soil Erosion with <u>No Soil Treatment</u> </center>\n",
        "\n",
        "This graph will display all results for soil erosion with no soil treatment including 'low', 'medium' and 'high' water and 'low', 'medium', and 'steep' incline."
      ]
    },
    {
      "metadata": {
        "id": "RovIDqzHzHBm",
        "colab_type": "code",
        "colab": {}
      },
      "cell_type": "code",
      "source": [
        "objects3 = ('Low Water - Low Incline', 'Low Water - Medium Incline', 'Low Water - Steep Incline', 'Medium Water - Low Incline', 'Medium Water - Medium Incline','Medium Water - Steep Incline','High Water - Low Incline', 'High Water - Medium Incline','High Water - Steep Incline')\n",
        "y_pos = np.arange(len(objects3))\n",
        "notreatment2 = [4,5,6,6,7,8,7,8,10]\n",
        "\n",
        "plt.bar(y_pos, notreatment2, align='center', alpha=0.5, color =\"cry\")\n",
        "\n",
        "plt.xticks(y_pos, objects3, rotation=90)\n",
        "plt.ylim(0,11)\n",
        "plt.ylabel('Soil Runoff in Litres')\n",
        "plt.title('Soil Erosion with No Soil Treatment')\n",
        "plt.show()"
      ],
      "execution_count": 0,
      "outputs": []
    },
    {
      "metadata": {
        "id": "z8oOcwILzHBv",
        "colab_type": "text"
      },
      "cell_type": "markdown",
      "source": [
        "### <font color = \"magenta\"> **Part 4 Questions - #6, #7, & #8** </font>\n",
        "\n",
        "\n",
        "> _Write your answers in your coding booklet for questions 6-8 after creating your bar graph to show the \"Effect of **Water** and **Incline** on Soil Erosion with **No Soil Treatment**_\n",
        "\n",
        "\n",
        "6. What impact will changing the incline will have on the amount of soil erosion?  How might this change how landscapers and architects build on a slope?\n",
        "<br>\n",
        "<br>\n",
        "7. What variable do you think has the biggest impact, water or incline? Explain.\n",
        "<br>\n",
        "<br>\n",
        "8. Why did we change only one variable for each test run?"
      ]
    },
    {
      "metadata": {
        "id": "4-NUpolZzHB1",
        "colab_type": "text"
      },
      "cell_type": "markdown",
      "source": [
        "## <span style=\"color:green\">Making a Bar Graph of the Data for Soil Erosion with Plants (Changing Water and Incline)</span>\n",
        "\n",
        ">Using the \"Eroison: Here Today, Gone Tomorrow\" Module run tests for soil erosion for the <b>PLANTS</b> soil treatment with for 'low', 'medium' and 'high' water and 'low', 'medium', and 'steep' incline.  Write down your results in a data table, then enter them in the code below where it says planterosion2 = [1,1,1,1,1,1,1,1,1]."
      ]
    },
    {
      "metadata": {
        "id": "mTu5b8I3zHB4",
        "colab_type": "code",
        "colab": {}
      },
      "cell_type": "code",
      "source": [
        "objects4 = ('Low Water - Low Incline', 'Low Water - Medium Incline', 'Low Water - Steep Incline', 'Medium Water - Low Incline', 'Medium Water - Medium Incline','Medium Water - Steep Incline','High Water - Low Incline', 'High Water - Medium Incline','High Water - Steep Incline')\n",
        "y_pos = np.arange(len(objects4))\n",
        "\n",
        "#Insert your data below in the [ ].  Make sure that the data is entered in the correct order. \n",
        "#All the data is preset to 1 Litre. Order:\n",
        "# Low Water - Low Incline\n",
        "# Low Water - Medium Incline\n",
        "# Low Water - Steep Incline\n",
        "# Medium Water - Low Incline\n",
        "# Medium Water - Medium Incline\n",
        "# Medium Water - Steep Incline \n",
        "# High Water - Low Incline\n",
        "# High Water - Medium Incline\n",
        "# High Water - Steep Incline\n",
        "\n",
        "planterosion2 = [1,1,1,1,1,1,1,1,1]\n",
        "\n",
        "plt.bar(y_pos, planterosion2, align='center', alpha=0.5, color =\"gmk\")\n",
        "plt.xticks(y_pos, objects4, rotation=90)\n",
        "plt.ylim(0,11)\n",
        "plt.ylabel('Soil Runoff in Litres')\n",
        "plt.title('Soil Erosion with Plants')\n",
        "plt.show()"
      ],
      "execution_count": 0,
      "outputs": []
    },
    {
      "metadata": {
        "id": "4ob_K2CLzHCG",
        "colab_type": "text"
      },
      "cell_type": "markdown",
      "source": [
        "### <font color = \"magenta\"> **Part 4 Questions - #9 & #10** </font>\n",
        "\n",
        "\n",
        "> _Write your answers in your coding booklet for questions 9 & 10 for comparing two variables with plants_ \n",
        "\n",
        "9. Which 3 test runs have the same amount of runoff?\n",
        "<br>\n",
        "<br>\n",
        "10. Why do you believe that the amount of runoff is the same for those 3 test runs?"
      ]
    },
    {
      "metadata": {
        "id": "Nj7nVJa0g3Ro",
        "colab_type": "text"
      },
      "cell_type": "markdown",
      "source": [
        "# <center>Part 5: Erosion Bonus Section (Unstructured Coding)</center>\n",
        "---"
      ]
    },
    {
      "metadata": {
        "id": "BHAoYyCJzHCJ",
        "colab_type": "text"
      },
      "cell_type": "markdown",
      "source": [
        "Open up [Eroison: Here Today, Gone Tomorrow](http://gtm-media.discoveryeducation.com/videos/DSC/externalApplications/accessible/virtual_labs-es/Erosion/index.html) again in a new tab. This time click on <b>Level 2</b>, which now allows you to also adjust the type of soil. Run run tests for soil erosion for the <u>PLANTS</u> soil treatment with <u>medium incline</u> for 'low', 'medium' and 'high' water and 'sand', 'silt', and 'Sand/Soil Mixture' Soil Types.  Write down your results in a data table, then enter them in the code below where it says level2 = [1,1,1,1,1,1,1,1,1]. "
      ]
    },
    {
      "metadata": {
        "scrolled": true,
        "id": "E-AX3JACzHCR",
        "colab_type": "code",
        "colab": {}
      },
      "cell_type": "code",
      "source": [
        "objectsb = ('Medium Water - Low Incline - Sand', 'Medium Water - Low Incline - Silt', 'Medium Water - Low Incline - Sand/Silt Mix','Medium Water - Medium Incline - Sand', 'Medium Water - Medium Incline - Silt', 'Medium Water - Medium Incline - Sand/Silt Mix', 'Medium Water - Steep Incline - Sand', 'Medium Water - Steep Incline - Silt', 'Medium Water - Steep Incline - Sand/Silt Mix')\n",
        "y_pos = np.arange(len(objectsb))\n",
        "\n",
        "#Insert your data below in the [ ].  Make sure that the data is entered in the correct order. \n",
        "#All the data is preset to 1 Litre. Order:\n",
        "# Medium Water - Low Incline - Sand\n",
        "# Medium Water - Low Incline - Silt\n",
        "# Medium Water - Low Incline - Sand/Silt Mix\n",
        "# Medium Water - Medium Incline - Sand\n",
        "# Medium Water - Medium Incline - Silt\n",
        "# Medium Water - Medium Incline - Sand/Silt Mix\n",
        "# Medium Water - Steep Incline - Sand\n",
        "# Medium Water - Steep Incline - Silt\n",
        "# Medium Water - Steep Incline - Sand/Silt Mix\n",
        "\n",
        "level2 = [1,1,1,1,1,1,1,1,1]\n",
        "\n",
        "\n",
        "plt.bar(y_pos, level2, align='center', alpha=0.5, color =[\"#C5B358\", \"#782F40\", \"k\"])\n",
        "plt.xticks(y_pos, objectsb, rotation=90)\n",
        "plt.ylim(0,11)\n",
        "plt.ylabel('Soil Runoff in Litres')\n",
        "plt.title('Soil Erosion with Plants & Medium Water (Level 2)')\n",
        "plt.show()"
      ],
      "execution_count": 0,
      "outputs": []
    },
    {
      "metadata": {
        "collapsed": true,
        "id": "VKEBsDxgzHCa",
        "colab_type": "text"
      },
      "cell_type": "markdown",
      "source": [
        "### <font color = \"magenta\"> **Part 5 Questions** </font>\n",
        "\n",
        "\n",
        "> *Write your answers in your coding booklet for questions the Erosion Bonus Section* \n",
        "\n",
        "\n",
        "11. What do you think would happen if we could also adjust the soil type to sand or silt?  Which soil type more accurately matches most of Florida’s?\n",
        "<br>\n",
        "<br>\n",
        "12. What was the dependent variable in all of the scenarios?  How do you know?  What were the two independent variables that were tested in this activity?\n",
        "<br>\n",
        "<br>\n",
        "13. What are some of the benefits of modeling erosion in the simulation and analyzing it with coding?  What were some of the limitations?   "
      ]
    },
    {
      "metadata": {
        "id": "VjfuF65iibtf",
        "colab_type": "code",
        "colab": {}
      },
      "cell_type": "code",
      "source": [
        "#Done?  Want to see what this thing can do? Try some of the ideas below!\n",
        "\n",
        "#You can use this empty coding block to try to generate your own code, here are a few challenges:\n",
        "#Try to change the labels / title of the graph\n",
        "#Try changing the bar colors on the graph\n",
        "#See what happens when you play with the \"ylim\" \n",
        "#Can you make your bar graph run side to side instead of up and down?"
      ],
      "execution_count": 0,
      "outputs": []
    }
  ]
}