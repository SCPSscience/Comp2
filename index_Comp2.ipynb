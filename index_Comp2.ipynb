{
  "nbformat": 4,
  "nbformat_minor": 0,
  "metadata": {
    "colab": {
      "name": "index_Comp2.ipynb",
      "version": "0.3.2",
      "provenance": [],
      "collapsed_sections": []
    },
    "kernelspec": {
      "display_name": "Python 3",
      "language": "python",
      "name": "python3"
    }
  },
  "cells": [
    {
      "metadata": {
        "id": "I_J-_wiNQ6na",
        "colab_type": "text"
      },
      "cell_type": "markdown",
      "source": [
        "\n",
        "# 7th Grade Comprehensive 2 Science Jupyter Notebooks\n",
        "\n",
        "![](https://github.com/SCPSscience/data/blob/master/Comp2png.png?raw=true)\n",
        "\n",
        "### What is Jupyter Notebooks?\n",
        "Jupyter Notebooks is a program that simplifies coding into “blocks” that allows code to be sectioned into chunks that are more easily\n",
        "interpreted and meaningful to students and teachers. Jupyter Notebooks also allows the use of section headings, in-code help\n",
        "comments, and easy reset options which make it a great tool for sharing code for others to manipulate and explore. Jupyter\n",
        "Notebooks uses a type of code called Python, this coding language is used in a wide variety of applications including- web\n",
        "development, app development, and most importantly- analysis of experimental results in scientific research.\n",
        "\n",
        "### Why are we doing this?\n",
        "\n",
        "This coding activity uses the same programing language and system used by many scientists around the world. The goal of this activity is to introduce you to the ways that coding is used in the real world. Organizations like CERN in Geneva, Switzerland use Jupyter Notebooks to analyze data from their particle colliders as they study the composition of atoms (other groups include- NASA, Google, & IBM). Each unit this year has a Jupyter Notebook associated with it, each explores different scientific concepts that are\n",
        "part of that unit for your practice and introduces you to new coding functions like creating graphs, customizing graphs, analyzing\n",
        "data, creating data charts, and sorting large amounts of information.\n",
        "\n",
        "Since this is the first time many of you will work with code, the changes you will be making are small. Others of you, who have coded before, will find opportunity to look into different ways code can be used. Each lesson provides an opportunity for “unstructured coding” where you can explore new ideas you might have or work with the information in a new way. Know that coding is often a community effort in which many people contribute, don’t be afraid to ask for help or offer it.\n",
        "\n",
        "\n",
        "### [Jupyter Notebooks Quick Start Guide](https://github.com/SCPSscience/booklet/raw/master/JupyterNotebooksStudentGuide.pdf)\n",
        "<br>\n",
        "\n",
        "### 7th Grade Inroduction to Jupyter Notebooks with the Periodic Table\n",
        "- [Introduction to Jupyter Notebooks with Periodic Tables](./Intro_Jupyter1811.ipynb) - Unit 1 - Change Over Time - \n",
        "    [Introduction to Jupyter Notebooks Coding Booklet](https://drive.google.com/open?id=1BFl6Uz0KNKrNGKZT81Y3qurmTGhRvnoi9tg5JHq6YEE)\n",
        "    \n",
        "![](https://thumbs.gfycat.com/ExhaustedTenderDorado-small.gif)    \n",
        "\n",
        "### Unit 1 - Change Over Time\n",
        "- [Introduction with Erosion](./Erosion1811.ipynb) Unit 1 - Change Over Time\n",
        "    [Erosion Coding Booklet]()\n",
        "    \n",
        "![](https://media1.giphy.com/media/ljxkBeQPyowTK/giphy.gif)    \n",
        "    \n",
        "### Unit 3 -  Beyond Our World    \n",
        "- [Properties of Stars](./Stars1811.ipynb) Unit 3 -  Beyond Our World\n",
        "    [Properties of Stars Coding Booklet](https://drive.google.com/open?id=1DFkdXxesy8iWMT9OW7k5LKd8tyf0RcGONpfyRehjDks)\n",
        "    \n",
        "![](https://media.giphy.com/media/PvMKNlIlQtXEI/giphy.gif)\n",
        "\n",
        "### Unit 5 - Homeostasis\n",
        "- [Florida's Water Budget](./Floridas_Water_Budget1811.ipynb) Unit 5 - Homeostasis\n",
        "    [Florida's Water Budget Coding Booklet](https://drive.google.com/open?id=1VvGSzMArdGMOed9Bgy0wqoKNyDK-UTBqoWnPQF-dC7o)\n",
        "    \n",
        "![](http://www.water-research.net/Watershed/watbudg.gif)\n",
        "    \n",
        "    "
      ]
    },
    {
      "metadata": {
        "id": "QPfqXlYgQ6nf",
        "colab_type": "code",
        "colab": {}
      },
      "cell_type": "code",
      "source": [
        ""
      ],
      "execution_count": 0,
      "outputs": []
    }
  ]
}